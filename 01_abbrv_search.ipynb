{
 "cells": [
  {
   "cell_type": "code",
   "execution_count": 3,
   "metadata": {},
   "outputs": [
    {
     "name": "stderr",
     "output_type": "stream",
     "text": [
      "[nltk_data] Downloading package words to\n",
      "[nltk_data]     /Users/gloriacarrascal/nltk_data...\n",
      "[nltk_data]   Unzipping corpora/words.zip.\n"
     ]
    }
   ],
   "source": [
    "import nltk\n",
    "nltk.download('words')\n",
    "import re\n",
    "import fitz  \n",
    "from nltk.corpus import words"
   ]
  },
  {
   "cell_type": "code",
   "execution_count": 4,
   "metadata": {},
   "outputs": [],
   "source": [
    "# Load the English dictionary\n",
    "english_words = set(words.words())"
   ]
  },
  {
   "cell_type": "code",
   "execution_count": 5,
   "metadata": {},
   "outputs": [],
   "source": [
    "def extract_text_from_pdf(pdf_path):\n",
    "    \"\"\"Extracts text from a PDF file.\"\"\"\n",
    "    text = \"\"\n",
    "    with fitz.open(pdf_path) as pdf:\n",
    "        for page in pdf:\n",
    "            text += page.get_text()\n",
    "    return text"
   ]
  },
  {
   "cell_type": "code",
   "execution_count": 6,
   "metadata": {},
   "outputs": [],
   "source": [
    "def find_unique_abbreviations(text):\n",
    "    \"\"\"Finds unique abbreviations in the given text.\"\"\"\n",
    "    # Regular expression for abbreviations (uppercase letters, 2+ characters)\n",
    "    abbreviation_pattern = r'\\b[A-Z]{2,}\\b'\n",
    "    abbreviations = set(re.findall(abbreviation_pattern, text))\n",
    "\n",
    "    # Exclude common English words (case-insensitive match)\n",
    "    filtered_abbreviations = {\n",
    "        abbrev for abbrev in abbreviations\n",
    "        if abbrev.lower() not in english_words\n",
    "    }\n",
    "    return filtered_abbreviations"
   ]
  },
  {
   "cell_type": "code",
   "execution_count": 7,
   "metadata": {},
   "outputs": [
    {
     "name": "stdout",
     "output_type": "stream",
     "text": [
      "Unique Abbreviations Found:\n",
      "ANALYSING\n",
      "ANC\n",
      "CD\n",
      "CEDAW\n",
      "FPTP\n",
      "GDR\n",
      "II\n",
      "III\n",
      "IPU\n",
      "LGBT\n",
      "NOTES\n",
      "PR\n",
      "PT\n",
      "SWM\n",
      "TRANSITIONS\n",
      "UK\n",
      "USA\n",
      "USSR\n"
     ]
    }
   ],
   "source": [
    "pdf_file = \"test.pdf\"\n",
    "# Extract text and find abbreviations\n",
    "text = extract_text_from_pdf(pdf_file)\n",
    "unique_abbreviations = find_unique_abbreviations(text)\n",
    "# Output the results\n",
    "print(\"Unique Abbreviations Found:\")\n",
    "for abbrev in sorted(unique_abbreviations):\n",
    "    print(abbrev)"
   ]
  },
  {
   "cell_type": "code",
   "execution_count": null,
   "metadata": {},
   "outputs": [],
   "source": []
  }
 ],
 "metadata": {
  "kernelspec": {
   "display_name": "docexplore",
   "language": "python",
   "name": "python3"
  },
  "language_info": {
   "codemirror_mode": {
    "name": "ipython",
    "version": 3
   },
   "file_extension": ".py",
   "mimetype": "text/x-python",
   "name": "python",
   "nbconvert_exporter": "python",
   "pygments_lexer": "ipython3",
   "version": "3.13.0"
  }
 },
 "nbformat": 4,
 "nbformat_minor": 2
}
